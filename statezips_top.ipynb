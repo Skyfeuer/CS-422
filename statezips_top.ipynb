{
 "cells": [
  {
   "cell_type": "code",
   "execution_count": 1,
   "id": "b9c1a9b3",
   "metadata": {
    "_cell_guid": "b1076dfc-b9ad-4769-8c92-a6c4dae69d19",
    "_uuid": "8f2839f25d086af736a60e9eeb907d3b93b6e0e5",
    "execution": {
     "iopub.execute_input": "2022-10-31T23:43:19.677981Z",
     "iopub.status.busy": "2022-10-31T23:43:19.677339Z",
     "iopub.status.idle": "2022-10-31T23:43:21.083321Z",
     "shell.execute_reply": "2022-10-31T23:43:21.082221Z"
    },
    "papermill": {
     "duration": 1.415912,
     "end_time": "2022-10-31T23:43:21.086101",
     "exception": false,
     "start_time": "2022-10-31T23:43:19.670189",
     "status": "completed"
    },
    "tags": []
   },
   "outputs": [
    {
     "name": "stdout",
     "output_type": "stream",
     "text": [
      "/kaggle/input/us-zipcode-database/zip_code_database.csv\n"
     ]
    }
   ],
   "source": [
    "# This Python 3 environment comes with many helpful analytics libraries installed\n",
    "# It is defined by the kaggle/python Docker image: https://github.com/kaggle/docker-python\n",
    "# For example, here's several helpful packages to load\n",
    "\n",
    "import numpy as np # linear algebra\n",
    "import pandas as pd # data processing, CSV file I/O (e.g. pd.read_csv)\n",
    "import matplotlib.pyplot as plt\n",
    "import plotly.express as px\n",
    "# Input data files are available in the read-only \"../input/\" directory\n",
    "# For example, running this (by clicking run or pressing Shift+Enter) will list all files under the input directory\n",
    "\n",
    "import os\n",
    "for dirname, _, filenames in os.walk('/kaggle/input'):\n",
    "    for filename in filenames:\n",
    "        print(os.path.join(dirname, filename))\n",
    "\n",
    "# You can write up to 20GB to the current directory (/kaggle/working/) that gets preserved as output when you create a version using \"Save & Run All\" \n",
    "# You can also write temporary files to /kaggle/temp/, but they won't be saved outside of the current session"
   ]
  },
  {
   "cell_type": "code",
   "execution_count": 2,
   "id": "82d0e47e",
   "metadata": {
    "execution": {
     "iopub.execute_input": "2022-10-31T23:43:21.095568Z",
     "iopub.status.busy": "2022-10-31T23:43:21.094815Z",
     "iopub.status.idle": "2022-10-31T23:43:21.290552Z",
     "shell.execute_reply": "2022-10-31T23:43:21.289724Z"
    },
    "papermill": {
     "duration": 0.202521,
     "end_time": "2022-10-31T23:43:21.293090",
     "exception": false,
     "start_time": "2022-10-31T23:43:21.090569",
     "status": "completed"
    },
    "tags": []
   },
   "outputs": [],
   "source": [
    "USzip = pd.read_csv('../input/us-zipcode-database/zip_code_database.csv')"
   ]
  },
  {
   "cell_type": "code",
   "execution_count": 3,
   "id": "6b4e812e",
   "metadata": {
    "execution": {
     "iopub.execute_input": "2022-10-31T23:43:21.302569Z",
     "iopub.status.busy": "2022-10-31T23:43:21.301525Z",
     "iopub.status.idle": "2022-10-31T23:43:21.344998Z",
     "shell.execute_reply": "2022-10-31T23:43:21.343927Z"
    },
    "papermill": {
     "duration": 0.05041,
     "end_time": "2022-10-31T23:43:21.347239",
     "exception": false,
     "start_time": "2022-10-31T23:43:21.296829",
     "status": "completed"
    },
    "tags": []
   },
   "outputs": [
    {
     "data": {
      "text/html": [
       "<div>\n",
       "<style scoped>\n",
       "    .dataframe tbody tr th:only-of-type {\n",
       "        vertical-align: middle;\n",
       "    }\n",
       "\n",
       "    .dataframe tbody tr th {\n",
       "        vertical-align: top;\n",
       "    }\n",
       "\n",
       "    .dataframe thead th {\n",
       "        text-align: right;\n",
       "    }\n",
       "</style>\n",
       "<table border=\"1\" class=\"dataframe\">\n",
       "  <thead>\n",
       "    <tr style=\"text-align: right;\">\n",
       "      <th></th>\n",
       "      <th>zip</th>\n",
       "      <th>type</th>\n",
       "      <th>decommissioned</th>\n",
       "      <th>primary_city</th>\n",
       "      <th>acceptable_cities</th>\n",
       "      <th>unacceptable_cities</th>\n",
       "      <th>state</th>\n",
       "      <th>county</th>\n",
       "      <th>timezone</th>\n",
       "      <th>area_codes</th>\n",
       "      <th>world_region</th>\n",
       "      <th>country</th>\n",
       "      <th>latitude</th>\n",
       "      <th>longitude</th>\n",
       "      <th>irs_estimated_population_2015</th>\n",
       "    </tr>\n",
       "  </thead>\n",
       "  <tbody>\n",
       "    <tr>\n",
       "      <th>0</th>\n",
       "      <td>501</td>\n",
       "      <td>UNIQUE</td>\n",
       "      <td>0</td>\n",
       "      <td>Holtsville</td>\n",
       "      <td>NaN</td>\n",
       "      <td>I R S Service Center</td>\n",
       "      <td>NY</td>\n",
       "      <td>Suffolk County</td>\n",
       "      <td>America/New_York</td>\n",
       "      <td>631</td>\n",
       "      <td>NaN</td>\n",
       "      <td>US</td>\n",
       "      <td>40.81</td>\n",
       "      <td>-73.04</td>\n",
       "      <td>562</td>\n",
       "    </tr>\n",
       "    <tr>\n",
       "      <th>1</th>\n",
       "      <td>544</td>\n",
       "      <td>UNIQUE</td>\n",
       "      <td>0</td>\n",
       "      <td>Holtsville</td>\n",
       "      <td>NaN</td>\n",
       "      <td>Irs Service Center</td>\n",
       "      <td>NY</td>\n",
       "      <td>Suffolk County</td>\n",
       "      <td>America/New_York</td>\n",
       "      <td>631</td>\n",
       "      <td>NaN</td>\n",
       "      <td>US</td>\n",
       "      <td>40.81</td>\n",
       "      <td>-73.04</td>\n",
       "      <td>0</td>\n",
       "    </tr>\n",
       "    <tr>\n",
       "      <th>2</th>\n",
       "      <td>601</td>\n",
       "      <td>STANDARD</td>\n",
       "      <td>0</td>\n",
       "      <td>Adjuntas</td>\n",
       "      <td>NaN</td>\n",
       "      <td>Colinas Del Gigante, Jard De Adjuntas, Urb San...</td>\n",
       "      <td>PR</td>\n",
       "      <td>Adjuntas Municipio</td>\n",
       "      <td>America/Puerto_Rico</td>\n",
       "      <td>787,939</td>\n",
       "      <td>NaN</td>\n",
       "      <td>US</td>\n",
       "      <td>18.16</td>\n",
       "      <td>-66.72</td>\n",
       "      <td>0</td>\n",
       "    </tr>\n",
       "    <tr>\n",
       "      <th>3</th>\n",
       "      <td>602</td>\n",
       "      <td>STANDARD</td>\n",
       "      <td>0</td>\n",
       "      <td>Aguada</td>\n",
       "      <td>NaN</td>\n",
       "      <td>Alts De Aguada, Bo Guaniquilla, Comunidad Las ...</td>\n",
       "      <td>PR</td>\n",
       "      <td>Aguada Municipio</td>\n",
       "      <td>America/Puerto_Rico</td>\n",
       "      <td>787,939</td>\n",
       "      <td>NaN</td>\n",
       "      <td>US</td>\n",
       "      <td>18.38</td>\n",
       "      <td>-67.18</td>\n",
       "      <td>0</td>\n",
       "    </tr>\n",
       "    <tr>\n",
       "      <th>4</th>\n",
       "      <td>603</td>\n",
       "      <td>STANDARD</td>\n",
       "      <td>0</td>\n",
       "      <td>Aguadilla</td>\n",
       "      <td>Ramey</td>\n",
       "      <td>Bda Caban, Bda Esteves, Bo Borinquen, Bo Ceiba...</td>\n",
       "      <td>PR</td>\n",
       "      <td>Aguadilla Municipio</td>\n",
       "      <td>America/Puerto_Rico</td>\n",
       "      <td>787</td>\n",
       "      <td>NaN</td>\n",
       "      <td>US</td>\n",
       "      <td>18.43</td>\n",
       "      <td>-67.15</td>\n",
       "      <td>0</td>\n",
       "    </tr>\n",
       "    <tr>\n",
       "      <th>...</th>\n",
       "      <td>...</td>\n",
       "      <td>...</td>\n",
       "      <td>...</td>\n",
       "      <td>...</td>\n",
       "      <td>...</td>\n",
       "      <td>...</td>\n",
       "      <td>...</td>\n",
       "      <td>...</td>\n",
       "      <td>...</td>\n",
       "      <td>...</td>\n",
       "      <td>...</td>\n",
       "      <td>...</td>\n",
       "      <td>...</td>\n",
       "      <td>...</td>\n",
       "      <td>...</td>\n",
       "    </tr>\n",
       "    <tr>\n",
       "      <th>42627</th>\n",
       "      <td>99926</td>\n",
       "      <td>PO BOX</td>\n",
       "      <td>0</td>\n",
       "      <td>Metlakatla</td>\n",
       "      <td>NaN</td>\n",
       "      <td>NaN</td>\n",
       "      <td>AK</td>\n",
       "      <td>Prince of Wales-Outer Ketchikan Borough</td>\n",
       "      <td>America/Metlakatla</td>\n",
       "      <td>907</td>\n",
       "      <td>NaN</td>\n",
       "      <td>US</td>\n",
       "      <td>55.14</td>\n",
       "      <td>-131.49</td>\n",
       "      <td>1140</td>\n",
       "    </tr>\n",
       "    <tr>\n",
       "      <th>42628</th>\n",
       "      <td>99927</td>\n",
       "      <td>PO BOX</td>\n",
       "      <td>0</td>\n",
       "      <td>Point Baker</td>\n",
       "      <td>NaN</td>\n",
       "      <td>NaN</td>\n",
       "      <td>AK</td>\n",
       "      <td>Prince of Wales-Hyder Census Area</td>\n",
       "      <td>America/Sitka</td>\n",
       "      <td>907</td>\n",
       "      <td>NaN</td>\n",
       "      <td>US</td>\n",
       "      <td>56.30</td>\n",
       "      <td>-133.57</td>\n",
       "      <td>48</td>\n",
       "    </tr>\n",
       "    <tr>\n",
       "      <th>42629</th>\n",
       "      <td>99928</td>\n",
       "      <td>PO BOX</td>\n",
       "      <td>0</td>\n",
       "      <td>Ward Cove</td>\n",
       "      <td>NaN</td>\n",
       "      <td>NaN</td>\n",
       "      <td>AK</td>\n",
       "      <td>Ketchikan Gateway Borough</td>\n",
       "      <td>America/Sitka</td>\n",
       "      <td>907</td>\n",
       "      <td>NaN</td>\n",
       "      <td>US</td>\n",
       "      <td>55.45</td>\n",
       "      <td>-131.79</td>\n",
       "      <td>1530</td>\n",
       "    </tr>\n",
       "    <tr>\n",
       "      <th>42630</th>\n",
       "      <td>99929</td>\n",
       "      <td>PO BOX</td>\n",
       "      <td>0</td>\n",
       "      <td>Wrangell</td>\n",
       "      <td>NaN</td>\n",
       "      <td>NaN</td>\n",
       "      <td>AK</td>\n",
       "      <td>Wrangell City and Borough</td>\n",
       "      <td>America/Sitka</td>\n",
       "      <td>907</td>\n",
       "      <td>NaN</td>\n",
       "      <td>US</td>\n",
       "      <td>56.41</td>\n",
       "      <td>-131.61</td>\n",
       "      <td>2145</td>\n",
       "    </tr>\n",
       "    <tr>\n",
       "      <th>42631</th>\n",
       "      <td>99950</td>\n",
       "      <td>PO BOX</td>\n",
       "      <td>0</td>\n",
       "      <td>Ketchikan</td>\n",
       "      <td>Edna Bay, Kasaan</td>\n",
       "      <td>NaN</td>\n",
       "      <td>AK</td>\n",
       "      <td>Prince of Wales-Outer Ketchikan Borough</td>\n",
       "      <td>America/Sitka</td>\n",
       "      <td>907</td>\n",
       "      <td>NaN</td>\n",
       "      <td>US</td>\n",
       "      <td>55.34</td>\n",
       "      <td>-131.64</td>\n",
       "      <td>262</td>\n",
       "    </tr>\n",
       "  </tbody>\n",
       "</table>\n",
       "<p>42632 rows × 15 columns</p>\n",
       "</div>"
      ],
      "text/plain": [
       "         zip      type  decommissioned primary_city acceptable_cities  \\\n",
       "0        501    UNIQUE               0   Holtsville               NaN   \n",
       "1        544    UNIQUE               0   Holtsville               NaN   \n",
       "2        601  STANDARD               0     Adjuntas               NaN   \n",
       "3        602  STANDARD               0       Aguada               NaN   \n",
       "4        603  STANDARD               0    Aguadilla             Ramey   \n",
       "...      ...       ...             ...          ...               ...   \n",
       "42627  99926    PO BOX               0   Metlakatla               NaN   \n",
       "42628  99927    PO BOX               0  Point Baker               NaN   \n",
       "42629  99928    PO BOX               0    Ward Cove               NaN   \n",
       "42630  99929    PO BOX               0     Wrangell               NaN   \n",
       "42631  99950    PO BOX               0    Ketchikan  Edna Bay, Kasaan   \n",
       "\n",
       "                                     unacceptable_cities state  \\\n",
       "0                                   I R S Service Center    NY   \n",
       "1                                     Irs Service Center    NY   \n",
       "2      Colinas Del Gigante, Jard De Adjuntas, Urb San...    PR   \n",
       "3      Alts De Aguada, Bo Guaniquilla, Comunidad Las ...    PR   \n",
       "4      Bda Caban, Bda Esteves, Bo Borinquen, Bo Ceiba...    PR   \n",
       "...                                                  ...   ...   \n",
       "42627                                                NaN    AK   \n",
       "42628                                                NaN    AK   \n",
       "42629                                                NaN    AK   \n",
       "42630                                                NaN    AK   \n",
       "42631                                                NaN    AK   \n",
       "\n",
       "                                        county             timezone  \\\n",
       "0                               Suffolk County     America/New_York   \n",
       "1                               Suffolk County     America/New_York   \n",
       "2                           Adjuntas Municipio  America/Puerto_Rico   \n",
       "3                             Aguada Municipio  America/Puerto_Rico   \n",
       "4                          Aguadilla Municipio  America/Puerto_Rico   \n",
       "...                                        ...                  ...   \n",
       "42627  Prince of Wales-Outer Ketchikan Borough   America/Metlakatla   \n",
       "42628        Prince of Wales-Hyder Census Area        America/Sitka   \n",
       "42629                Ketchikan Gateway Borough        America/Sitka   \n",
       "42630                Wrangell City and Borough        America/Sitka   \n",
       "42631  Prince of Wales-Outer Ketchikan Borough        America/Sitka   \n",
       "\n",
       "      area_codes world_region country  latitude  longitude  \\\n",
       "0            631          NaN      US     40.81     -73.04   \n",
       "1            631          NaN      US     40.81     -73.04   \n",
       "2        787,939          NaN      US     18.16     -66.72   \n",
       "3        787,939          NaN      US     18.38     -67.18   \n",
       "4            787          NaN      US     18.43     -67.15   \n",
       "...          ...          ...     ...       ...        ...   \n",
       "42627        907          NaN      US     55.14    -131.49   \n",
       "42628        907          NaN      US     56.30    -133.57   \n",
       "42629        907          NaN      US     55.45    -131.79   \n",
       "42630        907          NaN      US     56.41    -131.61   \n",
       "42631        907          NaN      US     55.34    -131.64   \n",
       "\n",
       "       irs_estimated_population_2015  \n",
       "0                                562  \n",
       "1                                  0  \n",
       "2                                  0  \n",
       "3                                  0  \n",
       "4                                  0  \n",
       "...                              ...  \n",
       "42627                           1140  \n",
       "42628                             48  \n",
       "42629                           1530  \n",
       "42630                           2145  \n",
       "42631                            262  \n",
       "\n",
       "[42632 rows x 15 columns]"
      ]
     },
     "execution_count": 3,
     "metadata": {},
     "output_type": "execute_result"
    }
   ],
   "source": [
    "USzip"
   ]
  },
  {
   "cell_type": "code",
   "execution_count": 4,
   "id": "9502bffd",
   "metadata": {
    "execution": {
     "iopub.execute_input": "2022-10-31T23:43:21.357684Z",
     "iopub.status.busy": "2022-10-31T23:43:21.356990Z",
     "iopub.status.idle": "2022-10-31T23:43:21.381077Z",
     "shell.execute_reply": "2022-10-31T23:43:21.377302Z"
    },
    "papermill": {
     "duration": 0.032168,
     "end_time": "2022-10-31T23:43:21.383712",
     "exception": false,
     "start_time": "2022-10-31T23:43:21.351544",
     "status": "completed"
    },
    "tags": []
   },
   "outputs": [
    {
     "data": {
      "text/html": [
       "<div>\n",
       "<style scoped>\n",
       "    .dataframe tbody tr th:only-of-type {\n",
       "        vertical-align: middle;\n",
       "    }\n",
       "\n",
       "    .dataframe tbody tr th {\n",
       "        vertical-align: top;\n",
       "    }\n",
       "\n",
       "    .dataframe thead th {\n",
       "        text-align: right;\n",
       "    }\n",
       "</style>\n",
       "<table border=\"1\" class=\"dataframe\">\n",
       "  <thead>\n",
       "    <tr style=\"text-align: right;\">\n",
       "      <th></th>\n",
       "      <th>zip</th>\n",
       "      <th>latitude</th>\n",
       "      <th>longitude</th>\n",
       "      <th>state</th>\n",
       "    </tr>\n",
       "  </thead>\n",
       "  <tbody>\n",
       "    <tr>\n",
       "      <th>0</th>\n",
       "      <td>501</td>\n",
       "      <td>40.81</td>\n",
       "      <td>-73.04</td>\n",
       "      <td>NY</td>\n",
       "    </tr>\n",
       "    <tr>\n",
       "      <th>1</th>\n",
       "      <td>544</td>\n",
       "      <td>40.81</td>\n",
       "      <td>-73.04</td>\n",
       "      <td>NY</td>\n",
       "    </tr>\n",
       "    <tr>\n",
       "      <th>2</th>\n",
       "      <td>601</td>\n",
       "      <td>18.16</td>\n",
       "      <td>-66.72</td>\n",
       "      <td>PR</td>\n",
       "    </tr>\n",
       "    <tr>\n",
       "      <th>3</th>\n",
       "      <td>602</td>\n",
       "      <td>18.38</td>\n",
       "      <td>-67.18</td>\n",
       "      <td>PR</td>\n",
       "    </tr>\n",
       "    <tr>\n",
       "      <th>4</th>\n",
       "      <td>603</td>\n",
       "      <td>18.43</td>\n",
       "      <td>-67.15</td>\n",
       "      <td>PR</td>\n",
       "    </tr>\n",
       "  </tbody>\n",
       "</table>\n",
       "</div>"
      ],
      "text/plain": [
       "   zip  latitude  longitude state\n",
       "0  501     40.81     -73.04    NY\n",
       "1  544     40.81     -73.04    NY\n",
       "2  601     18.16     -66.72    PR\n",
       "3  602     18.38     -67.18    PR\n",
       "4  603     18.43     -67.15    PR"
      ]
     },
     "execution_count": 4,
     "metadata": {},
     "output_type": "execute_result"
    }
   ],
   "source": [
    "USzip1 = USzip[[\"zip\",\"latitude\", \"longitude\", \"state\"]]\n",
    "USzip1.head()"
   ]
  },
  {
   "cell_type": "code",
   "execution_count": 5,
   "id": "6b9d9240",
   "metadata": {
    "execution": {
     "iopub.execute_input": "2022-10-31T23:43:21.398770Z",
     "iopub.status.busy": "2022-10-31T23:43:21.397840Z",
     "iopub.status.idle": "2022-10-31T23:43:21.490688Z",
     "shell.execute_reply": "2022-10-31T23:43:21.488483Z"
    },
    "papermill": {
     "duration": 0.102148,
     "end_time": "2022-10-31T23:43:21.493245",
     "exception": false,
     "start_time": "2022-10-31T23:43:21.391097",
     "status": "completed"
    },
    "tags": []
   },
   "outputs": [
    {
     "name": "stderr",
     "output_type": "stream",
     "text": [
      "/opt/conda/lib/python3.7/site-packages/pandas/core/frame.py:4913: SettingWithCopyWarning: \n",
      "A value is trying to be set on a copy of a slice from a DataFrame\n",
      "\n",
      "See the caveats in the documentation: https://pandas.pydata.org/pandas-docs/stable/user_guide/indexing.html#returning-a-view-versus-a-copy\n",
      "  errors=errors,\n"
     ]
    }
   ],
   "source": [
    "USzip1.drop(USzip1.loc[USzip1['state']=='PR'].index, inplace=True)\n",
    "USzip1.drop(USzip1.loc[USzip1['state']=='HI'].index, inplace=True)\n",
    "USzip1.drop(USzip1.loc[USzip1['state']=='GU'].index, inplace=True)\n",
    "USzip1.drop(USzip1.loc[USzip1['state']=='AK'].index, inplace=True)\n",
    "USzip1.drop(USzip1.loc[USzip1['state']=='VI'].index, inplace=True)\n",
    "USzip1.drop(USzip1.loc[USzip1['state']=='MP'].index, inplace=True)\n",
    "USzip1.drop(USzip1.loc[USzip1['state']=='AS'].index, inplace=True)"
   ]
  },
  {
   "cell_type": "code",
   "execution_count": 6,
   "id": "def7480a",
   "metadata": {
    "execution": {
     "iopub.execute_input": "2022-10-31T23:43:21.503982Z",
     "iopub.status.busy": "2022-10-31T23:43:21.503043Z",
     "iopub.status.idle": "2022-10-31T23:43:21.828114Z",
     "shell.execute_reply": "2022-10-31T23:43:21.827237Z"
    },
    "papermill": {
     "duration": 0.335975,
     "end_time": "2022-10-31T23:43:21.833559",
     "exception": false,
     "start_time": "2022-10-31T23:43:21.497584",
     "status": "completed"
    },
    "tags": []
   },
   "outputs": [
    {
     "data": {
      "text/plain": [
       "(24.0, 50.0)"
      ]
     },
     "execution_count": 6,
     "metadata": {},
     "output_type": "execute_result"
    },
    {
     "data": {
      "image/png": "[encoded data removed]",
      "text/plain": [
       "<Figure size 432x288 with 1 Axes>"
      ]
     },
     "metadata": {
      "needs_background": "light"
     },
     "output_type": "display_data"
    }
   ],
   "source": [
    "USzip1.plot.scatter( y='latitude', x='longitude', s=.05)\n",
    "axes = plt.gca()\n",
    "axes.set_xlim([-127,-66])\n",
    "axes.set_ylim([24,50])"
   ]
  },
  {
   "cell_type": "code",
   "execution_count": 7,
   "id": "b5c2fdda",
   "metadata": {
    "execution": {
     "iopub.execute_input": "2022-10-31T23:43:21.853879Z",
     "iopub.status.busy": "2022-10-31T23:43:21.853511Z",
     "iopub.status.idle": "2022-10-31T23:43:21.865043Z",
     "shell.execute_reply": "2022-10-31T23:43:21.864244Z"
    },
    "papermill": {
     "duration": 0.024248,
     "end_time": "2022-10-31T23:43:21.867620",
     "exception": false,
     "start_time": "2022-10-31T23:43:21.843372",
     "status": "completed"
    },
    "tags": []
   },
   "outputs": [
    {
     "data": {
      "text/plain": [
       "<bound method NDFrame.head of          zip state primary_city  irs_estimated_population_2015\n",
       "0        501    NY   Holtsville                            562\n",
       "1        544    NY   Holtsville                              0\n",
       "2        601    PR     Adjuntas                              0\n",
       "3        602    PR       Aguada                              0\n",
       "4        603    PR    Aguadilla                              0\n",
       "...      ...   ...          ...                            ...\n",
       "42627  99926    AK   Metlakatla                           1140\n",
       "42628  99927    AK  Point Baker                             48\n",
       "42629  99928    AK    Ward Cove                           1530\n",
       "42630  99929    AK     Wrangell                           2145\n",
       "42631  99950    AK    Ketchikan                            262\n",
       "\n",
       "[42632 rows x 4 columns]>"
      ]
     },
     "execution_count": 7,
     "metadata": {},
     "output_type": "execute_result"
    }
   ],
   "source": [
    "USzip2 = USzip[[\"zip\",\"state\", \"primary_city\", \"irs_estimated_population_2015\"]]\n",
    "USzip2.head"
   ]
  },
  {
   "cell_type": "code",
   "execution_count": 8,
   "id": "8d4df242",
   "metadata": {
    "execution": {
     "iopub.execute_input": "2022-10-31T23:43:21.885581Z",
     "iopub.status.busy": "2022-10-31T23:43:21.885089Z",
     "iopub.status.idle": "2022-10-31T23:43:21.901515Z",
     "shell.execute_reply": "2022-10-31T23:43:21.900771Z"
    },
    "papermill": {
     "duration": 0.027171,
     "end_time": "2022-10-31T23:43:21.903926",
     "exception": false,
     "start_time": "2022-10-31T23:43:21.876755",
     "status": "completed"
    },
    "tags": []
   },
   "outputs": [
    {
     "data": {
      "text/plain": [
       "zip                              0\n",
       "state                            0\n",
       "primary_city                     0\n",
       "irs_estimated_population_2015    0\n",
       "dtype: int64"
      ]
     },
     "execution_count": 8,
     "metadata": {},
     "output_type": "execute_result"
    }
   ],
   "source": [
    "USzip2.isnull().sum()"
   ]
  },
  {
   "cell_type": "code",
   "execution_count": 9,
   "id": "7801d87a",
   "metadata": {
    "execution": {
     "iopub.execute_input": "2022-10-31T23:43:21.921875Z",
     "iopub.status.busy": "2022-10-31T23:43:21.921029Z",
     "iopub.status.idle": "2022-10-31T23:43:21.940102Z",
     "shell.execute_reply": "2022-10-31T23:43:21.939048Z"
    },
    "papermill": {
     "duration": 0.029541,
     "end_time": "2022-10-31T23:43:21.942744",
     "exception": false,
     "start_time": "2022-10-31T23:43:21.913203",
     "status": "completed"
    },
    "tags": []
   },
   "outputs": [],
   "source": [
    "USzip3= USzip2.dropna()"
   ]
  },
  {
   "cell_type": "code",
   "execution_count": 10,
   "id": "8b841d41",
   "metadata": {
    "execution": {
     "iopub.execute_input": "2022-10-31T23:43:21.956646Z",
     "iopub.status.busy": "2022-10-31T23:43:21.955923Z",
     "iopub.status.idle": "2022-10-31T23:43:21.986144Z",
     "shell.execute_reply": "2022-10-31T23:43:21.985133Z"
    },
    "papermill": {
     "duration": 0.039714,
     "end_time": "2022-10-31T23:43:21.988367",
     "exception": false,
     "start_time": "2022-10-31T23:43:21.948653",
     "status": "completed"
    },
    "tags": []
   },
   "outputs": [
    {
     "data": {
      "text/html": [
       "<div>\n",
       "<style scoped>\n",
       "    .dataframe tbody tr th:only-of-type {\n",
       "        vertical-align: middle;\n",
       "    }\n",
       "\n",
       "    .dataframe tbody tr th {\n",
       "        vertical-align: top;\n",
       "    }\n",
       "\n",
       "    .dataframe thead th {\n",
       "        text-align: right;\n",
       "    }\n",
       "</style>\n",
       "<table border=\"1\" class=\"dataframe\">\n",
       "  <thead>\n",
       "    <tr style=\"text-align: right;\">\n",
       "      <th></th>\n",
       "      <th>zip</th>\n",
       "      <th>state</th>\n",
       "      <th>primary_city</th>\n",
       "      <th>irs_estimated_population_2015</th>\n",
       "    </tr>\n",
       "  </thead>\n",
       "  <tbody>\n",
       "    <tr>\n",
       "      <th>1</th>\n",
       "      <td>60629</td>\n",
       "      <td>IL</td>\n",
       "      <td>Chicago</td>\n",
       "      <td>114420</td>\n",
       "    </tr>\n",
       "    <tr>\n",
       "      <th>2</th>\n",
       "      <td>11220</td>\n",
       "      <td>NY</td>\n",
       "      <td>Brooklyn</td>\n",
       "      <td>111430</td>\n",
       "    </tr>\n",
       "    <tr>\n",
       "      <th>3</th>\n",
       "      <td>77449</td>\n",
       "      <td>TX</td>\n",
       "      <td>Katy</td>\n",
       "      <td>109280</td>\n",
       "    </tr>\n",
       "    <tr>\n",
       "      <th>4</th>\n",
       "      <td>8701</td>\n",
       "      <td>NJ</td>\n",
       "      <td>Lakewood</td>\n",
       "      <td>105330</td>\n",
       "    </tr>\n",
       "    <tr>\n",
       "      <th>5</th>\n",
       "      <td>77494</td>\n",
       "      <td>TX</td>\n",
       "      <td>Katy</td>\n",
       "      <td>104450</td>\n",
       "    </tr>\n",
       "    <tr>\n",
       "      <th>6</th>\n",
       "      <td>79936</td>\n",
       "      <td>TX</td>\n",
       "      <td>El Paso</td>\n",
       "      <td>103850</td>\n",
       "    </tr>\n",
       "    <tr>\n",
       "      <th>7</th>\n",
       "      <td>90650</td>\n",
       "      <td>CA</td>\n",
       "      <td>Norwalk</td>\n",
       "      <td>101180</td>\n",
       "    </tr>\n",
       "    <tr>\n",
       "      <th>8</th>\n",
       "      <td>11368</td>\n",
       "      <td>NY</td>\n",
       "      <td>Corona</td>\n",
       "      <td>100270</td>\n",
       "    </tr>\n",
       "    <tr>\n",
       "      <th>9</th>\n",
       "      <td>93033</td>\n",
       "      <td>CA</td>\n",
       "      <td>Oxnard</td>\n",
       "      <td>98770</td>\n",
       "    </tr>\n",
       "    <tr>\n",
       "      <th>10</th>\n",
       "      <td>77084</td>\n",
       "      <td>TX</td>\n",
       "      <td>Houston</td>\n",
       "      <td>98020</td>\n",
       "    </tr>\n",
       "  </tbody>\n",
       "</table>\n",
       "</div>"
      ],
      "text/plain": [
       "      zip state primary_city  irs_estimated_population_2015\n",
       "1   60629    IL      Chicago                         114420\n",
       "2   11220    NY     Brooklyn                         111430\n",
       "3   77449    TX         Katy                         109280\n",
       "4    8701    NJ     Lakewood                         105330\n",
       "5   77494    TX         Katy                         104450\n",
       "6   79936    TX      El Paso                         103850\n",
       "7   90650    CA      Norwalk                         101180\n",
       "8   11368    NY       Corona                         100270\n",
       "9   93033    CA       Oxnard                          98770\n",
       "10  77084    TX      Houston                          98020"
      ]
     },
     "execution_count": 10,
     "metadata": {},
     "output_type": "execute_result"
    }
   ],
   "source": [
    "USziptop = USzip3.sort_values(by='irs_estimated_population_2015', ascending=False).head(10).set_index([pd.Index([1,2,3,4,5,6,7,8,9,10])])\n",
    "USziptop"
   ]
  }
 ],
 "metadata": {
  "kernelspec": {
   "display_name": "Python 3",
   "language": "python",
   "name": "python3"
  },
  "language_info": {
   "codemirror_mode": {
    "name": "ipython",
    "version": 3
   },
   "file_extension": ".py",
   "mimetype": "text/x-python",
   "name": "python",
   "nbconvert_exporter": "python",
   "pygments_lexer": "ipython3",
   "version": "3.7.12"
  },
  "papermill": {
   "default_parameters": {},
   "duration": 11.226085,
   "end_time": "2022-10-31T23:43:22.716870",
   "environment_variables": {},
   "exception": null,
   "input_path": "__notebook__.ipynb",
   "output_path": "__notebook__.ipynb",
   "parameters": {},
   "start_time": "2022-10-31T23:43:11.490785",
   "version": "2.3.4"
  }
 },
 "nbformat": 4,
 "nbformat_minor": 5
}
